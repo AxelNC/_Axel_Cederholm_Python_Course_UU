{
 "cells": [
  {
   "cell_type": "code",
   "execution_count": 1,
   "id": "c7929785",
   "metadata": {},
   "outputs": [],
   "source": [
    "#get numpy\n",
    "import numpy as np"
   ]
  },
  {
   "cell_type": "code",
   "execution_count": 5,
   "id": "5eb4f845",
   "metadata": {},
   "outputs": [],
   "source": [
    "#define sigmoid activation function to get output between 0 and 1 and enable learning of problems other than those that are separable linearly\n",
    "def sigmoid(x):\n",
    "    return 1/(1 + np.exp(-1))\n",
    "#aslo define derivateve\n",
    "def sigmoid_derivative(x):\n",
    "    return x * (1-x)\n",
    "#deinfe class of single neuron\n",
    "class S_Neuron:\n",
    "    def _init_(self):"
   ]
  },
  {
   "cell_type": "code",
   "execution_count": null,
   "id": "159ff1de",
   "metadata": {},
   "outputs": [],
   "source": []
  }
 ],
 "metadata": {
  "kernelspec": {
   "display_name": "Python 3 (ipykernel)",
   "language": "python",
   "name": "python3"
  },
  "language_info": {
   "codemirror_mode": {
    "name": "ipython",
    "version": 3
   },
   "file_extension": ".py",
   "mimetype": "text/x-python",
   "name": "python",
   "nbconvert_exporter": "python",
   "pygments_lexer": "ipython3",
   "version": "3.9.13"
  }
 },
 "nbformat": 4,
 "nbformat_minor": 5
}
