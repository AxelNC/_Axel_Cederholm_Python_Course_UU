{
 "cells": [
  {
   "cell_type": "code",
   "execution_count": 1,
   "id": "c7929785",
   "metadata": {},
   "outputs": [],
   "source": [
    "#get numpy\n",
    "import numpy as np"
   ]
  },
  {
   "cell_type": "code",
   "execution_count": 11,
   "id": "5eb4f845",
   "metadata": {},
   "outputs": [
    {
     "ename": "IndentationError",
     "evalue": "expected an indented block (2968407915.py, line 9)",
     "output_type": "error",
     "traceback": [
      "\u001b[1;36m  File \u001b[1;32m\"C:\\Users\\axeno664\\AppData\\Local\\Temp\\ipykernel_32432\\2968407915.py\"\u001b[1;36m, line \u001b[1;32m9\u001b[0m\n\u001b[1;33m    def _init_(self):\u001b[0m\n\u001b[1;37m                     ^\u001b[0m\n\u001b[1;31mIndentationError\u001b[0m\u001b[1;31m:\u001b[0m expected an indented block\n"
     ]
    }
   ],
   "source": [
    "#define sigmoid activation function to get output between 0 and 1 and enable learning of problems other than those that are separable linearly\n",
    "def sigmoid(x):\n",
    "    return 1/(1 + np.exp(-1))\n",
    "#aslo define derivateve\n",
    "def sigmoid_derivative(x):\n",
    "    return x * (1-x)\n",
    "#deinfe class of single neuron\n",
    "class S_Neuron:\n",
    "    def _init_(self):"
   ]
  },
  {
   "cell_type": "code",
   "execution_count": 1,
   "id": "159ff1de",
   "metadata": {},
   "outputs": [],
   "source": [
    "#the following is inspired by the Datacamp course Introduction to Deep Learning in Python"
   ]
  },
  {
   "cell_type": "code",
   "execution_count": 15,
   "id": "e4ee17eb",
   "metadata": {},
   "outputs": [
    {
     "name": "stdout",
     "output_type": "stream",
     "text": [
      "[0.7310585786300049, 0.7310585786300049, 0.7310585786300049, 0.7310585786300049]\n"
     ]
    }
   ],
   "source": [
    "import numpy as np\n",
    "\n",
    "#define sigmoid activation function to get output between 0 and 1 and enable learning of problems other than those that are separable linearly\n",
    "def sigmoid(x):\n",
    "    return 1/(1 + np.exp(-1))\n",
    "#aslo define derivateve\n",
    "def sigmoid_derivative(x):\n",
    "    return x * (1-x)\n",
    "\n",
    "        \n",
    "weights = {'node_0': np.array([2, 4]), 'node_1': np.array([ 4, -5]), 'output': np.array([2, 7])}\n",
    "input_data = [np.array([3, 5]), np.array([ 1, -1]), np.array([0, 0]), np.array([8, 4])]\n",
    "# Define predict_with_network()\n",
    "def predict_with_network(input_data_row, weights):\n",
    "\n",
    "    # Calculate node 0 value\n",
    "    node_0_input = (input_data_row * weights['node_0']).sum()\n",
    "    node_0_output = sigmoid(node_0_input)\n",
    "\n",
    "    # Calculate node 1 value\n",
    "    node_1_input = (input_data_row * weights['node_1']).sum()\n",
    "    node_1_output = sigmoid(node_1_input)\n",
    "\n",
    "    # Put node values into array: hidden_layer_outputs\n",
    "    hidden_layer_outputs = np.array([node_0_output, node_1_output])\n",
    "    \n",
    "    # Calculate model output\n",
    "    input_to_final_layer = (hidden_layer_outputs * weights['output']).sum()\n",
    "    model_output = sigmoid(input_to_final_layer)\n",
    "    \n",
    "    # Return model output\n",
    "    return(model_output)\n",
    "\n",
    "# Create empty list to store prediction results\n",
    "results = []\n",
    "for input_data_row in input_data:\n",
    "    # Append prediction to results\n",
    "    results.append(predict_with_network(input_data_row, weights))\n",
    "\n",
    "# Print results\n",
    "print(results)     "
   ]
  },
  {
   "cell_type": "code",
   "execution_count": 6,
   "id": "5325c9c4",
   "metadata": {},
   "outputs": [
    {
     "name": "stdout",
     "output_type": "stream",
     "text": [
      "[0.7310585786300049, 0.7310585786300049, 0.7310585786300049, 0.7310585786300049]\n"
     ]
    }
   ],
   "source": [
    "import numpy as np\n",
    "\n",
    "#define sigmoid activation function to get output between 0 and 1 and enable learning of problems other than those that are separable linearly\n",
    "def sigmoid(x):\n",
    "    return 1/(1 + np.exp(-1))\n",
    "#aslo define derivateve\n",
    "def sigmoid_derivative(x):\n",
    "    return x * (1-x)\n",
    "class S_Neuron:\n",
    "    def _init_(self):\n",
    "        pass\n",
    "\n",
    "        \n",
    "weights = {'node_0': np.array([0.2, 0.5]), 'node_1': np.array([-0.1, 0.9]), 'output': np.array([-0.2, 0.4])}\n",
    "input_data = [np.array([3, 5]), np.array([ 1, 3]), np.array([4, 2]), np.array([8, 4])]\n",
    "# Define predict_with_network()\n",
    "def predict_with_network(input_data_row, weights):\n",
    "\n",
    "    # Calculate node 0 value\n",
    "    node_0_input = (input_data_row * weights['node_0']).sum()\n",
    "    node_0_output = sigmoid(node_0_input)\n",
    "\n",
    "    # Calculate node 1 value\n",
    "    node_1_input = (input_data_row * weights['node_1']).sum()\n",
    "    node_1_output = sigmoid(node_1_input)\n",
    "\n",
    "    # Put node values into array: hidden_layer_outputs\n",
    "    hidden_layer_outputs = np.array([node_0_output, node_1_output])\n",
    "    \n",
    "    # Calculate model output\n",
    "    input_to_final_layer = (hidden_layer_outputs * weights['output']).sum()\n",
    "    model_output = sigmoid(input_to_final_layer)\n",
    "    \n",
    "    # Return model output\n",
    "    return(model_output)\n",
    "\n",
    "# Create empty list to store prediction results\n",
    "results = []\n",
    "for input_data_row in input_data:\n",
    "    # Append prediction to results\n",
    "    results.append(predict_with_network(input_data_row, weights))\n",
    "\n",
    "# Print results\n",
    "print(results)     "
   ]
  },
  {
   "cell_type": "code",
   "execution_count": 8,
   "id": "aaeff8ea",
   "metadata": {},
   "outputs": [
    {
     "name": "stdout",
     "output_type": "stream",
     "text": [
      "[0.7310585786300049, 0.7310585786300049, 0.7310585786300049, 0.7310585786300049]\n"
     ]
    }
   ],
   "source": [
    "import numpy as np\n",
    "\n",
    "#define sigmoid activation function to get output between 0 and 1 and enable learning of problems other than those that are separable linearly\n",
    "def sigmoid(x):\n",
    "    return 1/(1 + np.exp(-1))\n",
    "#aslo define derivateve\n",
    "def sigmoid_derivative(x):\n",
    "    return x * (1-x)\n",
    "\n",
    "        \n",
    "weights = {'node_0': np.array([0.2, 0.5]), 'node_1': np.array([-0.1, 0.9]), 'output': np.array([-0.2, 0.4])}\n",
    "input_data = [np.array([500000, 400000]), np.array([300000, 200000]), np.array([500000, 200000]), np.array([700000, 400000])]\n",
    "# Define predict_with_network()\n",
    "def predict_with_network(input_data_row, weights):\n",
    "\n",
    "    # Calculate node 0 value\n",
    "    node_0_input = (input_data_row * weights['node_0']).sum()\n",
    "    node_0_output = sigmoid(node_0_input)\n",
    "\n",
    "    # Calculate node 1 value\n",
    "    node_1_input = (input_data_row * weights['node_1']).sum()\n",
    "    node_1_output = sigmoid(node_1_input)\n",
    "\n",
    "    # Put node values into array: hidden_layer_outputs\n",
    "    hidden_layer_outputs = np.array([node_0_output, node_1_output])\n",
    "    \n",
    "    # Calculate model output\n",
    "    input_to_final_layer = (hidden_layer_outputs * weights['output']).sum()\n",
    "    model_output = sigmoid(input_to_final_layer)\n",
    "    \n",
    "    # Return model output\n",
    "    return(model_output)\n",
    "\n",
    "# Create empty list to store prediction results\n",
    "results = []\n",
    "for input_data_row in input_data:\n",
    "    # Append prediction to results\n",
    "    results.append(predict_with_network(input_data_row, weights))\n",
    "\n",
    "# Print results\n",
    "print(results)     "
   ]
  },
  {
   "cell_type": "code",
   "execution_count": null,
   "id": "41493cba",
   "metadata": {},
   "outputs": [],
   "source": []
  }
 ],
 "metadata": {
  "kernelspec": {
   "display_name": "Python 3 (ipykernel)",
   "language": "python",
   "name": "python3"
  },
  "language_info": {
   "codemirror_mode": {
    "name": "ipython",
    "version": 3
   },
   "file_extension": ".py",
   "mimetype": "text/x-python",
   "name": "python",
   "nbconvert_exporter": "python",
   "pygments_lexer": "ipython3",
   "version": "3.9.13"
  }
 },
 "nbformat": 4,
 "nbformat_minor": 5
}
